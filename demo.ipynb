{
 "cells": [
  {
   "cell_type": "code",
   "execution_count": 1,
   "metadata": {},
   "outputs": [],
   "source": [
    "# clone the repo\n",
    "!git clone https://github.com/Srijith-rkr/Whispering-LLaMA.git\n",
    "\n",
    "# Clone the weights and rename the folder as weights \n",
    "!git lfs install\n",
    "!git clone https://huggingface.co/Srijith-rkr/Whispering-LLaMA \n",
    "\n",
    "# You can also download the weights using the UI in HuggingFace from the repo 'https://huggingface.co/Srijith-rkr/Whispering-LLaMA' if you have issues with git lfs\n",
    "\n",
    "# Refer to the READ ME file to build your environment"
   ]
  },
  {
   "cell_type": "code",
   "execution_count": 5,
   "metadata": {},
   "outputs": [],
   "source": [
    "import torch \n",
    "\n",
    "# To merge the Alpaca weigts from the HuggingFace repo we just cloned\n",
    "\n",
    "a = torch.load('weights/a.pth')\n",
    "b = torch.load('weights/a.pth')\n",
    "c = torch.load('weights/a.pth')\n",
    "\n",
    "# merging\n",
    "alpaca_checkpoint = a|b|c\n",
    "\n",
    "# saving\n",
    "torch.save(alpaca_checkpoint,'weights/alpaca.pth')"
   ]
  },
  {
   "cell_type": "code",
   "execution_count": null,
   "metadata": {},
   "outputs": [],
   "source": [
    "import wandb\n",
    "wandb.login()"
   ]
  },
  {
   "cell_type": "code",
   "execution_count": null,
   "metadata": {},
   "outputs": [],
   "source": [
    "# To train the model\n",
    "!python training/WL-S.py --lr 1e-3 --d 1 --pretrained_path 'weights/alpaca.pth' --tokenizer_path 'weights/tokenizer.model' --data 'path to your dataset'\n",
    "\n",
    "# Refer to https://github.com/Srijith-rkr/Whispering-LLaMA/tree/main/data_preparation to make your own dataset"
   ]
  }
 ],
 "metadata": {
  "kernelspec": {
   "display_name": "LLFT",
   "language": "python",
   "name": "python3"
  },
  "language_info": {
   "codemirror_mode": {
    "name": "ipython",
    "version": 3
   },
   "file_extension": ".py",
   "mimetype": "text/x-python",
   "name": "python",
   "nbconvert_exporter": "python",
   "pygments_lexer": "ipython3",
   "version": "3.10.11"
  }
 },
 "nbformat": 4,
 "nbformat_minor": 2
}
